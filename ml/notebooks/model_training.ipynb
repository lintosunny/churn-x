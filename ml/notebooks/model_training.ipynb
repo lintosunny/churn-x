{
 "cells": [
  {
   "cell_type": "markdown",
   "id": "3456b074",
   "metadata": {},
   "source": [
    "# Telco Cusstomer Churn: Model Building"
   ]
  },
  {
   "cell_type": "markdown",
   "id": "7839ae2b",
   "metadata": {},
   "source": [
    "## Table of Contents \n",
    "1. [Model Training](#1-model-training)  \n",
    "2. [Model Evaluation](#2-model-evaluation) \n",
    "3. [Model Export](#2-model-export) "
   ]
  },
  {
   "cell_type": "markdown",
   "id": "a2c34440",
   "metadata": {},
   "source": [
    "## 1. Model Training"
   ]
  },
  {
   "cell_type": "code",
   "execution_count": 171,
   "id": "28f7c90f",
   "metadata": {},
   "outputs": [],
   "source": [
    "# --- Warnings ---\n",
    "import warnings\n",
    "warnings.filterwarnings(\"ignore\")\n",
    "\n",
    "# --- Data handling ---\n",
    "import numpy as np\n",
    "import pandas as pd\n",
    "\n",
    "# --- Visualization ---\n",
    "import matplotlib.pyplot as plt\n",
    "from tqdm import tqdm\n",
    "\n",
    "# --- Imbalanced data handling ---\n",
    "from imblearn.combine import SMOTETomek\n",
    "\n",
    "# --- Machine Learning & Models ---\n",
    "from sklearn.linear_model import LogisticRegression, LinearRegression\n",
    "from sklearn.ensemble import RandomForestClassifier\n",
    "from sklearn.neighbors import KNeighborsClassifier\n",
    "from xgboost import XGBClassifier\n",
    "\n",
    "# --- Model selection & hyperparameter tuning ---\n",
    "from sklearn.model_selection import cross_val_score\n",
    "import optuna\n",
    "optuna.logging.set_verbosity(optuna.logging.WARNING)  # Suppress Optuna info logs\n",
    "\n",
    "# --- Metrics ---\n",
    "from sklearn.metrics import (\n",
    "    mean_squared_error,\n",
    "    classification_report, confusion_matrix, ConfusionMatrixDisplay,\n",
    "    accuracy_score, precision_score, recall_score, f1_score,\n",
    "    roc_curve, roc_auc_score, make_scorer\n",
    ")\n",
    "\n",
    "# --- Model persistence ---\n",
    "import joblib\n"
   ]
  },
  {
   "cell_type": "code",
   "execution_count": null,
   "id": "5144f134",
   "metadata": {},
   "outputs": [
    {
     "name": "stdout",
     "output_type": "stream",
     "text": [
      "X_train= (5587, 20), y_train= (5587, 1)\n",
      "X_test= (1397, 20), y_test= (1397, 1)\n"
     ]
    }
   ],
   "source": [
    "import pandas as pd\n",
    "\n",
    "# Read the saved datasets\n",
    "X_train = pd.read_csv(\"artifacts/feature_engineering/X_train.csv\")\n",
    "X_test  = pd.read_csv(\"artifacts/feature_engineering/X_test.csv\")\n",
    "y_train = pd.read_csv(\"artifacts/feature_engineering/y_train.csv\")\n",
    "y_test  = pd.read_csv(\"artifacts/feature_engineering/y_test.csv\")\n",
    "\n",
    "print(f\"X_train= {X_train.shape}, y_train= {y_train.shape}\")\n",
    "print(f\"X_test= {X_test.shape}, y_test= {y_test.shape}\")"
   ]
  },
  {
   "cell_type": "code",
   "execution_count": 168,
   "id": "1d728d19",
   "metadata": {},
   "outputs": [
    {
     "data": {
      "text/html": [
       "<div>\n",
       "<style scoped>\n",
       "    .dataframe tbody tr th:only-of-type {\n",
       "        vertical-align: middle;\n",
       "    }\n",
       "\n",
       "    .dataframe tbody tr th {\n",
       "        vertical-align: top;\n",
       "    }\n",
       "\n",
       "    .dataframe thead th {\n",
       "        text-align: right;\n",
       "    }\n",
       "</style>\n",
       "<table border=\"1\" class=\"dataframe\">\n",
       "  <thead>\n",
       "    <tr style=\"text-align: right;\">\n",
       "      <th></th>\n",
       "      <th>City</th>\n",
       "      <th>Contract</th>\n",
       "      <th>is_payment_recurring</th>\n",
       "      <th>Tenure Months</th>\n",
       "      <th>Tech Support</th>\n",
       "      <th>Online Security</th>\n",
       "      <th>Internet Service</th>\n",
       "      <th>Payment Method</th>\n",
       "      <th>Online Backup</th>\n",
       "      <th>Device Protection</th>\n",
       "      <th>Dependents</th>\n",
       "      <th>Streaming TV</th>\n",
       "      <th>Streaming Movies</th>\n",
       "      <th>is_payment_automatic</th>\n",
       "      <th>Monthly Charges</th>\n",
       "      <th>Paperless Billing</th>\n",
       "      <th>additional_services</th>\n",
       "      <th>Senior Citizen</th>\n",
       "      <th>Partner</th>\n",
       "      <th>CLTV</th>\n",
       "    </tr>\n",
       "  </thead>\n",
       "  <tbody>\n",
       "    <tr>\n",
       "      <th>0</th>\n",
       "      <td>0.302354</td>\n",
       "      <td>0.413065</td>\n",
       "      <td>1</td>\n",
       "      <td>0.458333</td>\n",
       "      <td>0.139233</td>\n",
       "      <td>0.399282</td>\n",
       "      <td>0.176836</td>\n",
       "      <td>0.438043</td>\n",
       "      <td>0.209677</td>\n",
       "      <td>0.212866</td>\n",
       "      <td>0</td>\n",
       "      <td>0.287872</td>\n",
       "      <td>0.323001</td>\n",
       "      <td>0</td>\n",
       "      <td>0.315920</td>\n",
       "      <td>1</td>\n",
       "      <td>0.75</td>\n",
       "      <td>1</td>\n",
       "      <td>1</td>\n",
       "      <td>0.799867</td>\n",
       "    </tr>\n",
       "    <tr>\n",
       "      <th>1</th>\n",
       "      <td>0.250849</td>\n",
       "      <td>0.028169</td>\n",
       "      <td>0</td>\n",
       "      <td>0.791667</td>\n",
       "      <td>0.403853</td>\n",
       "      <td>0.141593</td>\n",
       "      <td>0.176836</td>\n",
       "      <td>0.154400</td>\n",
       "      <td>0.381595</td>\n",
       "      <td>0.212866</td>\n",
       "      <td>0</td>\n",
       "      <td>0.287872</td>\n",
       "      <td>0.288183</td>\n",
       "      <td>1</td>\n",
       "      <td>0.558209</td>\n",
       "      <td>1</td>\n",
       "      <td>0.50</td>\n",
       "      <td>0</td>\n",
       "      <td>0</td>\n",
       "      <td>0.788303</td>\n",
       "    </tr>\n",
       "    <tr>\n",
       "      <th>2</th>\n",
       "      <td>0.254207</td>\n",
       "      <td>0.099914</td>\n",
       "      <td>0</td>\n",
       "      <td>0.666667</td>\n",
       "      <td>0.403853</td>\n",
       "      <td>0.399282</td>\n",
       "      <td>0.408549</td>\n",
       "      <td>0.438043</td>\n",
       "      <td>0.209677</td>\n",
       "      <td>0.378411</td>\n",
       "      <td>0</td>\n",
       "      <td>0.287872</td>\n",
       "      <td>0.288183</td>\n",
       "      <td>0</td>\n",
       "      <td>0.803483</td>\n",
       "      <td>1</td>\n",
       "      <td>0.25</td>\n",
       "      <td>1</td>\n",
       "      <td>0</td>\n",
       "      <td>0.235268</td>\n",
       "    </tr>\n",
       "  </tbody>\n",
       "</table>\n",
       "</div>"
      ],
      "text/plain": [
       "       City  Contract  is_payment_recurring  ...  Senior Citizen  Partner      CLTV\n",
       "0  0.302354  0.413065                     1  ...               1        1  0.799867\n",
       "1  0.250849  0.028169                     0  ...               0        0  0.788303\n",
       "2  0.254207  0.099914                     0  ...               1        0  0.235268\n",
       "\n",
       "[3 rows x 20 columns]"
      ]
     },
     "execution_count": 168,
     "metadata": {},
     "output_type": "execute_result"
    }
   ],
   "source": [
    "X_train.head(3)"
   ]
  },
  {
   "cell_type": "markdown",
   "id": "1d163402",
   "metadata": {},
   "source": [
    "### 1.1 Resampling using SMOTETomek"
   ]
  },
  {
   "cell_type": "code",
   "execution_count": null,
   "id": "c9bac850",
   "metadata": {},
   "outputs": [
    {
     "name": "stdout",
     "output_type": "stream",
     "text": [
      "Before SMOTE-Tomek: {(0,): 4162, (1,): 1425}\n",
      "After SMOTE-Tomek: {(0,): 4040, (1,): 4040}\n"
     ]
    }
   ],
   "source": [
    "# Apply SMOTE-Tomek on training data only\n",
    "smote_tomek = SMOTETomek(random_state=42, sampling_strategy=\"auto\")\n",
    "X_train_resampled, y_train_resampled = smote_tomek.fit_resample(X_train, y_train)\n",
    "\n",
    "print(\"Before SMOTE-Tomek:\", y_train.value_counts().to_dict())\n",
    "print(\"After SMOTE-Tomek:\", y_train_resampled.value_counts().to_dict())"
   ]
  },
  {
   "cell_type": "markdown",
   "id": "147cf352",
   "metadata": {},
   "source": [
    "### 1.2 Hyper Parameter Tuning with Optuna"
   ]
  },
  {
   "cell_type": "markdown",
   "id": "db9be088",
   "metadata": {},
   "source": [
    "### 1.2.1 Logistic Regression"
   ]
  },
  {
   "cell_type": "code",
   "execution_count": null,
   "id": "5511805f",
   "metadata": {},
   "outputs": [
    {
     "name": "stderr",
     "output_type": "stream",
     "text": [
      "Optuna Trials: 100%|██████████| 100/100 [00:06<00:00, 14.51trial/s]"
     ]
    },
    {
     "name": "stdout",
     "output_type": "stream",
     "text": [
      "model: Logistic Regression \n",
      "score:  0.9141089108910891 \n",
      "params:  {'C': 0.00010050911089731326, 'solver': 'liblinear', 'tol': 0.0008585753270861602, 'class_weight': None}\n"
     ]
    },
    {
     "name": "stderr",
     "output_type": "stream",
     "text": [
      "\n"
     ]
    }
   ],
   "source": [
    "def objective_lr(trial):\n",
    "    model = LogisticRegression(\n",
    "        C = trial.suggest_float('C', 1e-4, 1e4, log=True),\n",
    "        solver = trial.suggest_categorical('solver', ['lbfgs', 'liblinear', 'saga', 'newton-cg']),\n",
    "        tol = trial.suggest_float('tol', 1e-6, 1e-1, log=True),\n",
    "        class_weight = trial.suggest_categorical('class_weight', [None, 'balanced'])\n",
    "    )\n",
    "    \n",
    "    scorer = make_scorer(recall_score, average='binary', pos_label=1)\n",
    "    return cross_val_score(model, X_train_resampled, y_train_resampled, cv=5, scoring=scorer, n_jobs=-1).mean()\n",
    "\n",
    "# Progress bar setup\n",
    "total_trials = 100\n",
    "pbar = tqdm(total=total_trials, desc=\"Optuna Trials\", unit=\"trial\")\n",
    "\n",
    "def progress_callback(study, trial):\n",
    "    pbar.update(1)\n",
    "\n",
    "study_lr = optuna.create_study(direction=\"maximize\")\n",
    "study_lr.optimize(objective_lr, n_trials=total_trials, callbacks=[progress_callback])\n",
    "\n",
    "pbar.close()\n",
    "\n",
    "print(\"model: Logistic Regression\", \"\\nscore: \", study_lr.best_trial.value, \"\\nparams: \", study_lr.best_trial.params)"
   ]
  },
  {
   "cell_type": "markdown",
   "id": "e18582bd",
   "metadata": {},
   "source": [
    "#### 1.2.2 Random Forest"
   ]
  },
  {
   "cell_type": "code",
   "execution_count": null,
   "id": "14d9973b",
   "metadata": {},
   "outputs": [
    {
     "name": "stderr",
     "output_type": "stream",
     "text": [
      "Optuna Trials: 100%|██████████| 100/100 [01:48<00:00,  1.08s/trial]"
     ]
    },
    {
     "name": "stdout",
     "output_type": "stream",
     "text": [
      "model: Random Forest \n",
      "score:  0.9136138613861385 \n",
      "params:  {'n_estimators': 160, 'max_depth': 13, 'min_samples_split': 2, 'min_samples_leaf': 1}\n"
     ]
    },
    {
     "name": "stderr",
     "output_type": "stream",
     "text": [
      "\n"
     ]
    }
   ],
   "source": [
    "def objective_rf(trial):\n",
    "    model = RandomForestClassifier(\n",
    "        n_estimators = trial.suggest_int(\"n_estimators\", 100, 300),\n",
    "        max_depth = trial.suggest_int(\"max_depth\", 5, 30),\n",
    "        min_samples_split = trial.suggest_int(\"min_samples_split\", 2, 10),\n",
    "        min_samples_leaf = trial.suggest_int(\"min_samples_leaf\", 1, 5),\n",
    "        random_state = 42,\n",
    "        n_jobs = -1\n",
    "    )\n",
    "    scorer = make_scorer(recall_score, average='binary', pos_label=1)\n",
    "    return cross_val_score(model, X_train_resampled, y_train_resampled, cv=5, scoring=scorer, n_jobs=-1).mean()\n",
    "\n",
    "# Progress bar setup\n",
    "total_trials = 100\n",
    "pbar = tqdm(total=total_trials, desc=\"Optuna Trials\", unit=\"trial\")\n",
    "\n",
    "def progress_callback(study, trial):\n",
    "    pbar.update(1)\n",
    "\n",
    "study_rf = optuna.create_study(direction=\"maximize\")\n",
    "study_rf.optimize(objective_rf, n_trials=total_trials, callbacks=[progress_callback])\n",
    "\n",
    "pbar.close()\n",
    "\n",
    "print(\"model: Random Forest\", \"\\nscore: \", study_rf.best_trial.value, \"\\nparams: \", study_rf.best_trial.params)"
   ]
  },
  {
   "cell_type": "markdown",
   "id": "2076eece",
   "metadata": {},
   "source": [
    "#### 1.2.3 KNN"
   ]
  },
  {
   "cell_type": "code",
   "execution_count": null,
   "id": "4479cc74",
   "metadata": {},
   "outputs": [
    {
     "name": "stderr",
     "output_type": "stream",
     "text": [
      "Optuna Trials: 100%|██████████| 100/100 [00:12<00:00,  8.02trial/s]"
     ]
    },
    {
     "name": "stdout",
     "output_type": "stream",
     "text": [
      "model: KNN \n",
      "score:  0.9683168316831683 \n",
      "params:  {'n_neighbors': 3, 'weights': 'distance', 'metric': 'euclidean'}\n"
     ]
    },
    {
     "name": "stderr",
     "output_type": "stream",
     "text": [
      "\n"
     ]
    }
   ],
   "source": [
    "def objective_knn(trial):\n",
    "    model = KNeighborsClassifier(\n",
    "        n_neighbors = trial.suggest_int(\"n_neighbors\", 3, 15),\n",
    "        weights = trial.suggest_categorical(\"weights\", [\"uniform\", \"distance\"]),\n",
    "        metric = trial.suggest_categorical(\"metric\", [\"euclidean\", \"manhattan\"])\n",
    "    )\n",
    "    scorer = make_scorer(recall_score, average='binary', pos_label=1)\n",
    "    return cross_val_score(model, X_train_resampled, y_train_resampled, cv=5, scoring=scorer, n_jobs=-1).mean()\n",
    "\n",
    "# Progress bar setup\n",
    "total_trials = 100\n",
    "pbar = tqdm(total=total_trials, desc=\"Optuna Trials\", unit=\"trial\")\n",
    "\n",
    "def progress_callback(study, trial):\n",
    "    pbar.update(1)\n",
    "\n",
    "study_knn = optuna.create_study(direction=\"maximize\")\n",
    "study_knn.optimize(objective_knn, n_trials=total_trials, callbacks=[progress_callback])\n",
    "\n",
    "pbar.close()\n",
    "\n",
    "print(\"model: KNN\", \"\\nscore: \", study_knn.best_trial.value, \"\\nparams: \", study_knn.best_trial.params)"
   ]
  },
  {
   "cell_type": "markdown",
   "id": "2dfb0578",
   "metadata": {},
   "source": [
    "#### 1.2.4 XGBoost"
   ]
  },
  {
   "cell_type": "code",
   "execution_count": null,
   "id": "e359c052",
   "metadata": {},
   "outputs": [
    {
     "name": "stderr",
     "output_type": "stream",
     "text": [
      "Optuna Trials: 100%|██████████| 100/100 [01:26<00:00,  1.16trial/s]"
     ]
    },
    {
     "name": "stdout",
     "output_type": "stream",
     "text": [
      "model: XGBoost \n",
      "score:  0.9101485148514851 \n",
      "params:  {'n_estimators': 101, 'max_depth': 8, 'learning_rate': 0.01051089976056901, 'subsample': 0.7322344161336377, 'colsample_bytree': 0.7491339679195387, 'gamma': 0.33158257927059553, 'reg_alpha': 0.00025535577112223244, 'reg_lambda': 0.00011362596398902069}\n"
     ]
    },
    {
     "name": "stderr",
     "output_type": "stream",
     "text": [
      "\n"
     ]
    }
   ],
   "source": [
    "def objective_xgb(trial):\n",
    "    model = XGBClassifier(\n",
    "        n_estimators = trial.suggest_int(\"n_estimators\", 100, 300),\n",
    "        max_depth = trial.suggest_int(\"max_depth\", 3, 10),\n",
    "        learning_rate = trial.suggest_float(\"learning_rate\", 0.01, 0.3, log=True),\n",
    "        subsample = trial.suggest_float(\"subsample\", 0.6, 1.0),\n",
    "        colsample_bytree = trial.suggest_float(\"colsample_bytree\", 0.6, 1.0),\n",
    "        gamma = trial.suggest_float(\"gamma\", 0, 5),\n",
    "        reg_alpha = trial.suggest_float(\"reg_alpha\", 1e-4, 10, log=True),\n",
    "        reg_lambda = trial.suggest_float(\"reg_lambda\", 1e-4, 10, log=True),\n",
    "        use_label_encoder = False,\n",
    "        eval_metric = 'logloss',\n",
    "        random_state = 42,\n",
    "        n_jobs = -1\n",
    "    )\n",
    "    scorer = make_scorer(recall_score, average='binary', pos_label=1)\n",
    "    return cross_val_score(model, X_train_resampled, y_train_resampled, cv=5, scoring=scorer, n_jobs=-1).mean()\n",
    "\n",
    "# Progress bar setup\n",
    "total_trials = 100\n",
    "pbar = tqdm(total=total_trials, desc=\"Optuna Trials\", unit=\"trial\")\n",
    "\n",
    "def progress_callback(study, trial):\n",
    "    pbar.update(1)\n",
    "\n",
    "study_xgb = optuna.create_study(direction=\"maximize\")\n",
    "study_xgb.optimize(objective_xgb, n_trials=total_trials, callbacks=[progress_callback])\n",
    "\n",
    "pbar.close()\n",
    "\n",
    "print(\"model: XGBoost\", \"\\nscore: \", study_xgb.best_trial.value, \"\\nparams: \", study_xgb.best_trial.params)"
   ]
  },
  {
   "cell_type": "code",
   "execution_count": 134,
   "id": "9f8611af",
   "metadata": {},
   "outputs": [
    {
     "data": {
      "text/plain": [
       "{'LogisticRegression': {'optuna_cv': 91.41, 'test_recall': 88.57},\n",
       " 'RandomForest': {'optuna_cv': 91.36, 'test_recall': 51.43},\n",
       " 'KNN': {'optuna_cv': 96.83, 'test_recall': 62.86},\n",
       " 'XGBoost': {'optuna_cv': 91.01, 'test_recall': 56.62}}"
      ]
     },
     "execution_count": 134,
     "metadata": {},
     "output_type": "execute_result"
    }
   ],
   "source": [
    "models = {\n",
    "    \"LogisticRegression\": LogisticRegression(**study_lr.best_params),\n",
    "    \"RandomForest\": RandomForestClassifier(**study_rf.best_params),\n",
    "    \"KNN\": KNeighborsClassifier(**study_knn.best_params),\n",
    "    \"XGBoost\": XGBClassifier(**study_xgb.best_params) \n",
    "}\n",
    "\n",
    "cv_val_score = {\n",
    "    \"LogisticRegression\": study_lr.best_value,\n",
    "    \"RandomForest\": study_rf.best_value,\n",
    "    \"KNN\": study_knn.best_value,\n",
    "    \"XGBoost\": study_xgb.best_value \n",
    "}\n",
    "\n",
    "results = {}\n",
    "model_score = 0\n",
    "\n",
    "for name, model in models.items():\n",
    "    model.fit(X_train_resampled, y_train_resampled)\n",
    "    y_pred = model.predict(X_test)\n",
    "    test_score = recall_score(y_test, y_pred, average='binary', pos_label=1)\n",
    "    results[name] = {\n",
    "        \"optuna_cv\": round(cv_val_score[name]*100, 2), \n",
    "        \"test_recall\": round(test_score*100, 2)\n",
    "    }\n",
    "\n",
    "results"
   ]
  },
  {
   "cell_type": "markdown",
   "id": "7fcc2df4",
   "metadata": {},
   "source": [
    "✅ Selected Model: **Logistic Regression**\n",
    "\n",
    "- While KNN has the highest Optuna CV recall (96.83%), its test recall drops significantly to 62.86%, indicating overfitting.\n",
    "\n",
    "- Logistic Regression maintains high Optuna CV recall (91.41%) and excellent test recall (88.57%), which shows robust generalization.\n",
    "\n",
    "- Random Forest and XGBoost have moderate test recall (52–56%), which is too low for the goal of capturing churners (label 1).\n",
    "\n",
    "- Conclusion: Logistic Regression is the best choice for maximizing recall on churners while remaining stable on unseen data."
   ]
  },
  {
   "cell_type": "markdown",
   "id": "891e4fb0",
   "metadata": {},
   "source": [
    "### 1.3 Model Metrics"
   ]
  },
  {
   "cell_type": "code",
   "execution_count": null,
   "id": "cc2b5ce7",
   "metadata": {},
   "outputs": [],
   "source": [
    "model_lr = LogisticRegression(**study_lr.best_params) \n",
    "model_lr.fit(X_train_resampled, y_train_resampled)\n",
    "y_pred = model_lr.predict(X_test)\n",
    "y_prob = model_lr.predict_proba(X_test)[:, 1]  # probabilities for ROC"
   ]
  },
  {
   "cell_type": "markdown",
   "id": "6e165c68",
   "metadata": {},
   "source": [
    "### 1.3.1 Classification Report"
   ]
  },
  {
   "cell_type": "code",
   "execution_count": 137,
   "id": "a2b38335",
   "metadata": {},
   "outputs": [
    {
     "name": "stdout",
     "output_type": "stream",
     "text": [
      "\n",
      "Classification Report:\n",
      "\n",
      "              precision    recall  f1-score   support\n",
      "\n",
      "           0       0.93      0.59      0.72      1012\n",
      "           1       0.45      0.89      0.60       385\n",
      "\n",
      "    accuracy                           0.67      1397\n",
      "   macro avg       0.69      0.74      0.66      1397\n",
      "weighted avg       0.80      0.67      0.69      1397\n",
      "\n"
     ]
    }
   ],
   "source": [
    "# --- Classification Report ---\n",
    "print(\"\\nClassification Report:\\n\")\n",
    "print(classification_report(y_test, y_pred))"
   ]
  },
  {
   "cell_type": "markdown",
   "id": "debc1eb5",
   "metadata": {},
   "source": [
    "#### 1.3.2 Accuracy, Precision, Recall, F1-Score"
   ]
  },
  {
   "cell_type": "code",
   "execution_count": 138,
   "id": "a969ef57",
   "metadata": {},
   "outputs": [
    {
     "name": "stdout",
     "output_type": "stream",
     "text": [
      "Accuracy: 0.6686\n",
      "Precision (macro): 0.6898\n",
      "Recall (macro): 0.7358\n",
      "F1-score (macro): 0.6574\n"
     ]
    }
   ],
   "source": [
    "# --- Metrics ---\n",
    "accuracy = accuracy_score(y_test, y_pred)\n",
    "precision = precision_score(y_test, y_pred, average='macro')\n",
    "recall = recall_score(y_test, y_pred, average='macro')\n",
    "f1 = f1_score(y_test, y_pred, average='macro')\n",
    "\n",
    "print(f\"Accuracy: {accuracy:.4f}\")\n",
    "print(f\"Precision (macro): {precision:.4f}\")\n",
    "print(f\"Recall (macro): {recall:.4f}\")\n",
    "print(f\"F1-score (macro): {f1:.4f}\")"
   ]
  },
  {
   "cell_type": "markdown",
   "id": "50d18574",
   "metadata": {},
   "source": [
    "#### 1.3.3 Confusion Matrix"
   ]
  },
  {
   "cell_type": "code",
   "execution_count": 139,
   "id": "ba7c28fd",
   "metadata": {},
   "outputs": [
    {
     "data": {
      "image/png": "[encoded data removed]",
      "text/plain": [
       "<Figure size 640x480 with 2 Axes>"
      ]
     },
     "metadata": {},
     "output_type": "display_data"
    }
   ],
   "source": [
    "# --- Confusion Matrix ---\n",
    "cm = confusion_matrix(y_test, y_pred)\n",
    "disp = ConfusionMatrixDisplay(confusion_matrix=cm)\n",
    "disp.plot(cmap=\"Blues\")\n",
    "plt.title(\"Confusion Matrix\")\n",
    "plt.show()"
   ]
  },
  {
   "cell_type": "markdown",
   "id": "60beb596",
   "metadata": {},
   "source": [
    "#### 1.3.4 ROC"
   ]
  },
  {
   "cell_type": "code",
   "execution_count": 141,
   "id": "e1b80108",
   "metadata": {},
   "outputs": [
    {
     "data": {
      "image/png": "[encoded data removed]",
      "text/plain": [
       "<Figure size 600x500 with 1 Axes>"
      ]
     },
     "metadata": {},
     "output_type": "display_data"
    }
   ],
   "source": [
    "# --- ROC Curve ---\n",
    "y_prob = model_lr.predict_proba(X_test)[:, 1]  # probabilities for ROC\n",
    "fpr, tpr, thresholds = roc_curve(y_test, y_prob)\n",
    "roc_auc = roc_auc_score(y_test, y_prob)\n",
    "\n",
    "plt.figure(figsize=(6,5))\n",
    "plt.plot(fpr, tpr, label=f\"ROC Curve (AUC = {roc_auc:.4f})\")\n",
    "plt.plot([0,1], [0,1], 'k--')\n",
    "plt.xlabel(\"False Positive Rate\")\n",
    "plt.ylabel(\"True Positive Rate\")\n",
    "plt.title(\"ROC Curve\")\n",
    "plt.legend(loc=\"lower right\")\n",
    "plt.show()"
   ]
  },
  {
   "cell_type": "markdown",
   "id": "9b9042dd",
   "metadata": {},
   "source": [
    "## 2. Model Evaluation"
   ]
  },
  {
   "cell_type": "markdown",
   "id": "d3439b09",
   "metadata": {},
   "source": [
    "### 2.1 KS Static"
   ]
  },
  {
   "cell_type": "code",
   "execution_count": 163,
   "id": "446a5821",
   "metadata": {},
   "outputs": [
    {
     "data": {
      "text/html": [
       "<div>\n",
       "<style scoped>\n",
       "    .dataframe tbody tr th:only-of-type {\n",
       "        vertical-align: middle;\n",
       "    }\n",
       "\n",
       "    .dataframe tbody tr th {\n",
       "        vertical-align: top;\n",
       "    }\n",
       "\n",
       "    .dataframe thead th {\n",
       "        text-align: right;\n",
       "    }\n",
       "</style>\n",
       "<table border=\"1\" class=\"dataframe\">\n",
       "  <thead>\n",
       "    <tr style=\"text-align: right;\">\n",
       "      <th></th>\n",
       "      <th>Default Truth</th>\n",
       "      <th>Default Probability</th>\n",
       "    </tr>\n",
       "  </thead>\n",
       "  <tbody>\n",
       "    <tr>\n",
       "      <th>0</th>\n",
       "      <td>0</td>\n",
       "      <td>0.490152</td>\n",
       "    </tr>\n",
       "    <tr>\n",
       "      <th>1</th>\n",
       "      <td>0</td>\n",
       "      <td>0.463135</td>\n",
       "    </tr>\n",
       "    <tr>\n",
       "      <th>2</th>\n",
       "      <td>0</td>\n",
       "      <td>0.489663</td>\n",
       "    </tr>\n",
       "  </tbody>\n",
       "</table>\n",
       "</div>"
      ],
      "text/plain": [
       "   Default Truth  Default Probability\n",
       "0              0             0.490152\n",
       "1              0             0.463135\n",
       "2              0             0.489663"
      ]
     },
     "execution_count": 163,
     "metadata": {},
     "output_type": "execute_result"
    }
   ],
   "source": [
    "df_eval = pd.DataFrame({\n",
    "    'Default Truth': y_test.values.flatten(),\n",
    "    'Default Probability': y_prob.ravel()\n",
    "})\n",
    "df_eval.head(3)"
   ]
  },
  {
   "cell_type": "code",
   "execution_count": 165,
   "id": "e64e4cd3",
   "metadata": {},
   "outputs": [
    {
     "data": {
      "text/html": [
       "<div>\n",
       "<style scoped>\n",
       "    .dataframe tbody tr th:only-of-type {\n",
       "        vertical-align: middle;\n",
       "    }\n",
       "\n",
       "    .dataframe tbody tr th {\n",
       "        vertical-align: top;\n",
       "    }\n",
       "\n",
       "    .dataframe thead th {\n",
       "        text-align: right;\n",
       "    }\n",
       "</style>\n",
       "<table border=\"1\" class=\"dataframe\">\n",
       "  <thead>\n",
       "    <tr style=\"text-align: right;\">\n",
       "      <th></th>\n",
       "      <th>Decile</th>\n",
       "      <th>Minimum Probability</th>\n",
       "      <th>Maximum Probability</th>\n",
       "      <th>Events</th>\n",
       "      <th>Non-events</th>\n",
       "    </tr>\n",
       "  </thead>\n",
       "  <tbody>\n",
       "    <tr>\n",
       "      <th>0</th>\n",
       "      <td>0</td>\n",
       "      <td>0.450907</td>\n",
       "      <td>0.469706</td>\n",
       "      <td>3.0</td>\n",
       "      <td>137.0</td>\n",
       "    </tr>\n",
       "    <tr>\n",
       "      <th>1</th>\n",
       "      <td>1</td>\n",
       "      <td>0.469787</td>\n",
       "      <td>0.478898</td>\n",
       "      <td>1.0</td>\n",
       "      <td>139.0</td>\n",
       "    </tr>\n",
       "    <tr>\n",
       "      <th>2</th>\n",
       "      <td>2</td>\n",
       "      <td>0.478899</td>\n",
       "      <td>0.486688</td>\n",
       "      <td>9.0</td>\n",
       "      <td>130.0</td>\n",
       "    </tr>\n",
       "    <tr>\n",
       "      <th>3</th>\n",
       "      <td>3</td>\n",
       "      <td>0.486812</td>\n",
       "      <td>0.495095</td>\n",
       "      <td>20.0</td>\n",
       "      <td>120.0</td>\n",
       "    </tr>\n",
       "    <tr>\n",
       "      <th>4</th>\n",
       "      <td>4</td>\n",
       "      <td>0.495135</td>\n",
       "      <td>0.504765</td>\n",
       "      <td>17.0</td>\n",
       "      <td>123.0</td>\n",
       "    </tr>\n",
       "    <tr>\n",
       "      <th>5</th>\n",
       "      <td>5</td>\n",
       "      <td>0.504842</td>\n",
       "      <td>0.514807</td>\n",
       "      <td>35.0</td>\n",
       "      <td>104.0</td>\n",
       "    </tr>\n",
       "    <tr>\n",
       "      <th>6</th>\n",
       "      <td>6</td>\n",
       "      <td>0.514834</td>\n",
       "      <td>0.523035</td>\n",
       "      <td>56.0</td>\n",
       "      <td>84.0</td>\n",
       "    </tr>\n",
       "    <tr>\n",
       "      <th>7</th>\n",
       "      <td>7</td>\n",
       "      <td>0.523097</td>\n",
       "      <td>0.530338</td>\n",
       "      <td>60.0</td>\n",
       "      <td>79.0</td>\n",
       "    </tr>\n",
       "    <tr>\n",
       "      <th>8</th>\n",
       "      <td>8</td>\n",
       "      <td>0.530378</td>\n",
       "      <td>0.537788</td>\n",
       "      <td>80.0</td>\n",
       "      <td>60.0</td>\n",
       "    </tr>\n",
       "    <tr>\n",
       "      <th>9</th>\n",
       "      <td>9</td>\n",
       "      <td>0.537800</td>\n",
       "      <td>0.549687</td>\n",
       "      <td>104.0</td>\n",
       "      <td>36.0</td>\n",
       "    </tr>\n",
       "  </tbody>\n",
       "</table>\n",
       "</div>"
      ],
      "text/plain": [
       "   Decile  Minimum Probability  Maximum Probability  Events  Non-events\n",
       "0       0             0.450907             0.469706     3.0       137.0\n",
       "1       1             0.469787             0.478898     1.0       139.0\n",
       "2       2             0.478899             0.486688     9.0       130.0\n",
       "3       3             0.486812             0.495095    20.0       120.0\n",
       "4       4             0.495135             0.504765    17.0       123.0\n",
       "5       5             0.504842             0.514807    35.0       104.0\n",
       "6       6             0.514834             0.523035    56.0        84.0\n",
       "7       7             0.523097             0.530338    60.0        79.0\n",
       "8       8             0.530378             0.537788    80.0        60.0\n",
       "9       9             0.537800             0.549687   104.0        36.0"
      ]
     },
     "execution_count": 165,
     "metadata": {},
     "output_type": "execute_result"
    }
   ],
   "source": [
    "df_eval['Decile'] = pd.qcut(df_eval['Default Probability'], 10, labels=False, duplicates='drop')\n",
    "\n",
    "df_decile = df_eval.groupby('Decile').apply(lambda x: pd.Series({\n",
    "    'Minimum Probability': x['Default Probability'].min(),\n",
    "    'Maximum Probability': x['Default Probability'].max(),\n",
    "    'Events': x['Default Truth'].sum(),\n",
    "    'Non-events': x['Default Truth'].count() - x['Default Truth'].sum(),    \n",
    "}))\n",
    "df_decile.reset_index(inplace=True)\n",
    "df_decile"
   ]
  },
  {
   "cell_type": "code",
   "execution_count": 166,
   "id": "4c322ed8",
   "metadata": {},
   "outputs": [
    {
     "data": {
      "text/plain": [
       "count    140.000000\n",
       "mean       0.533864\n",
       "std        0.002273\n",
       "min        0.530378\n",
       "25%        0.531698\n",
       "50%        0.533584\n",
       "75%        0.535700\n",
       "max        0.537788\n",
       "Name: Default Probability, dtype: float64"
      ]
     },
     "execution_count": 166,
     "metadata": {},
     "output_type": "execute_result"
    }
   ],
   "source": [
    "df_eval[df_eval.Decile==8]['Default Probability'].describe()"
   ]
  },
  {
   "cell_type": "code",
   "execution_count": 167,
   "id": "9dc93efa",
   "metadata": {},
   "outputs": [
    {
     "data": {
      "text/html": [
       "<div>\n",
       "<style scoped>\n",
       "    .dataframe tbody tr th:only-of-type {\n",
       "        vertical-align: middle;\n",
       "    }\n",
       "\n",
       "    .dataframe tbody tr th {\n",
       "        vertical-align: top;\n",
       "    }\n",
       "\n",
       "    .dataframe thead th {\n",
       "        text-align: right;\n",
       "    }\n",
       "</style>\n",
       "<table border=\"1\" class=\"dataframe\">\n",
       "  <thead>\n",
       "    <tr style=\"text-align: right;\">\n",
       "      <th></th>\n",
       "      <th>Decile</th>\n",
       "      <th>Minimum Probability</th>\n",
       "      <th>Maximum Probability</th>\n",
       "      <th>Events</th>\n",
       "      <th>Non-events</th>\n",
       "      <th>Event Rate</th>\n",
       "      <th>Non-event Rate</th>\n",
       "      <th>Cum Events</th>\n",
       "      <th>Cum Non-events</th>\n",
       "      <th>Cum Event Rate</th>\n",
       "      <th>Cum Non-event Rate</th>\n",
       "      <th>KS</th>\n",
       "    </tr>\n",
       "  </thead>\n",
       "  <tbody>\n",
       "    <tr>\n",
       "      <th>0</th>\n",
       "      <td>9</td>\n",
       "      <td>0.537800</td>\n",
       "      <td>0.549687</td>\n",
       "      <td>104.0</td>\n",
       "      <td>36.0</td>\n",
       "      <td>74.285714</td>\n",
       "      <td>25.714286</td>\n",
       "      <td>104.0</td>\n",
       "      <td>36.0</td>\n",
       "      <td>27.012987</td>\n",
       "      <td>3.557312</td>\n",
       "      <td>23.455675</td>\n",
       "    </tr>\n",
       "    <tr>\n",
       "      <th>1</th>\n",
       "      <td>8</td>\n",
       "      <td>0.530378</td>\n",
       "      <td>0.537788</td>\n",
       "      <td>80.0</td>\n",
       "      <td>60.0</td>\n",
       "      <td>57.142857</td>\n",
       "      <td>42.857143</td>\n",
       "      <td>184.0</td>\n",
       "      <td>96.0</td>\n",
       "      <td>47.792208</td>\n",
       "      <td>9.486166</td>\n",
       "      <td>38.306042</td>\n",
       "    </tr>\n",
       "    <tr>\n",
       "      <th>2</th>\n",
       "      <td>7</td>\n",
       "      <td>0.523097</td>\n",
       "      <td>0.530338</td>\n",
       "      <td>60.0</td>\n",
       "      <td>79.0</td>\n",
       "      <td>43.165468</td>\n",
       "      <td>56.834532</td>\n",
       "      <td>244.0</td>\n",
       "      <td>175.0</td>\n",
       "      <td>63.376623</td>\n",
       "      <td>17.292490</td>\n",
       "      <td>46.084133</td>\n",
       "    </tr>\n",
       "    <tr>\n",
       "      <th>3</th>\n",
       "      <td>6</td>\n",
       "      <td>0.514834</td>\n",
       "      <td>0.523035</td>\n",
       "      <td>56.0</td>\n",
       "      <td>84.0</td>\n",
       "      <td>40.000000</td>\n",
       "      <td>60.000000</td>\n",
       "      <td>300.0</td>\n",
       "      <td>259.0</td>\n",
       "      <td>77.922078</td>\n",
       "      <td>25.592885</td>\n",
       "      <td>52.329193</td>\n",
       "    </tr>\n",
       "    <tr>\n",
       "      <th>4</th>\n",
       "      <td>5</td>\n",
       "      <td>0.504842</td>\n",
       "      <td>0.514807</td>\n",
       "      <td>35.0</td>\n",
       "      <td>104.0</td>\n",
       "      <td>25.179856</td>\n",
       "      <td>74.820144</td>\n",
       "      <td>335.0</td>\n",
       "      <td>363.0</td>\n",
       "      <td>87.012987</td>\n",
       "      <td>35.869565</td>\n",
       "      <td>51.143422</td>\n",
       "    </tr>\n",
       "    <tr>\n",
       "      <th>5</th>\n",
       "      <td>4</td>\n",
       "      <td>0.495135</td>\n",
       "      <td>0.504765</td>\n",
       "      <td>17.0</td>\n",
       "      <td>123.0</td>\n",
       "      <td>12.142857</td>\n",
       "      <td>87.857143</td>\n",
       "      <td>352.0</td>\n",
       "      <td>486.0</td>\n",
       "      <td>91.428571</td>\n",
       "      <td>48.023715</td>\n",
       "      <td>43.404856</td>\n",
       "    </tr>\n",
       "    <tr>\n",
       "      <th>6</th>\n",
       "      <td>3</td>\n",
       "      <td>0.486812</td>\n",
       "      <td>0.495095</td>\n",
       "      <td>20.0</td>\n",
       "      <td>120.0</td>\n",
       "      <td>14.285714</td>\n",
       "      <td>85.714286</td>\n",
       "      <td>372.0</td>\n",
       "      <td>606.0</td>\n",
       "      <td>96.623377</td>\n",
       "      <td>59.881423</td>\n",
       "      <td>36.741954</td>\n",
       "    </tr>\n",
       "    <tr>\n",
       "      <th>7</th>\n",
       "      <td>2</td>\n",
       "      <td>0.478899</td>\n",
       "      <td>0.486688</td>\n",
       "      <td>9.0</td>\n",
       "      <td>130.0</td>\n",
       "      <td>6.474820</td>\n",
       "      <td>93.525180</td>\n",
       "      <td>381.0</td>\n",
       "      <td>736.0</td>\n",
       "      <td>98.961039</td>\n",
       "      <td>72.727273</td>\n",
       "      <td>26.233766</td>\n",
       "    </tr>\n",
       "    <tr>\n",
       "      <th>8</th>\n",
       "      <td>1</td>\n",
       "      <td>0.469787</td>\n",
       "      <td>0.478898</td>\n",
       "      <td>1.0</td>\n",
       "      <td>139.0</td>\n",
       "      <td>0.714286</td>\n",
       "      <td>99.285714</td>\n",
       "      <td>382.0</td>\n",
       "      <td>875.0</td>\n",
       "      <td>99.220779</td>\n",
       "      <td>86.462451</td>\n",
       "      <td>12.758329</td>\n",
       "    </tr>\n",
       "    <tr>\n",
       "      <th>9</th>\n",
       "      <td>0</td>\n",
       "      <td>0.450907</td>\n",
       "      <td>0.469706</td>\n",
       "      <td>3.0</td>\n",
       "      <td>137.0</td>\n",
       "      <td>2.142857</td>\n",
       "      <td>97.857143</td>\n",
       "      <td>385.0</td>\n",
       "      <td>1012.0</td>\n",
       "      <td>100.000000</td>\n",
       "      <td>100.000000</td>\n",
       "      <td>0.000000</td>\n",
       "    </tr>\n",
       "  </tbody>\n",
       "</table>\n",
       "</div>"
      ],
      "text/plain": [
       "   Decile  Minimum Probability  ...  Cum Non-event Rate         KS\n",
       "0       9             0.537800  ...            3.557312  23.455675\n",
       "1       8             0.530378  ...            9.486166  38.306042\n",
       "2       7             0.523097  ...           17.292490  46.084133\n",
       "3       6             0.514834  ...           25.592885  52.329193\n",
       "4       5             0.504842  ...           35.869565  51.143422\n",
       "5       4             0.495135  ...           48.023715  43.404856\n",
       "6       3             0.486812  ...           59.881423  36.741954\n",
       "7       2             0.478899  ...           72.727273  26.233766\n",
       "8       1             0.469787  ...           86.462451  12.758329\n",
       "9       0             0.450907  ...          100.000000   0.000000\n",
       "\n",
       "[10 rows x 12 columns]"
      ]
     },
     "execution_count": 167,
     "metadata": {},
     "output_type": "execute_result"
    }
   ],
   "source": [
    "df_decile['Event Rate'] = df_decile['Events']*100 / (df_decile['Events']+df_decile['Non-events'])\n",
    "df_decile['Non-event Rate'] = df_decile['Non-events']*100 / (df_decile['Events']+df_decile['Non-events'])\n",
    "df_decile = df_decile.sort_values(by='Decile', ascending=False).reset_index(drop=True)\n",
    "df_decile['Cum Events'] =  df_decile['Events'].cumsum()\n",
    "df_decile['Cum Non-events'] =  df_decile['Non-events'].cumsum()\n",
    "df_decile['Cum Event Rate'] = df_decile['Cum Events'] * 100 / df_decile['Events'].sum()\n",
    "df_decile['Cum Non-event Rate'] = df_decile['Cum Non-events']*100 / df_decile['Non-events'].sum()\n",
    "df_decile['KS'] = abs(df_decile['Cum Event Rate'] - df_decile['Cum Non-event Rate'])\n",
    "df_decile"
   ]
  },
  {
   "cell_type": "markdown",
   "id": "79b32db1",
   "metadata": {},
   "source": [
    "**Insights**\n",
    "- ***Strong Model Performance:** KS peaks at **52.33% (decile 6)** → excellent separation between churners and non-churners.*\n",
    "- ***Top Churners Identified:** Top 3 deciles (9, 8, 7) capture majority of churners with high event rates (74%, 57%, 43%).*\n",
    "- ***Low-risk Customers:** Bottom deciles (0, 1) have <3% event rate → minimal risk, can ignore in campaigns.* \n",
    "- ***Optimal Threshold:** Probability around **0.515–0.523** (decile 6) maximizes churner capture (~78%) while limiting non-churn inclusion (~26%).*"
   ]
  },
  {
   "cell_type": "markdown",
   "id": "5c4ec448",
   "metadata": {},
   "source": [
    "### Feature Importance"
   ]
  },
  {
   "cell_type": "code",
   "execution_count": 161,
   "id": "32f08003",
   "metadata": {},
   "outputs": [
    {
     "data": {
      "image/png": "[encoded data removed]",
      "text/plain": [
       "<Figure size 800x400 with 1 Axes>"
      ]
     },
     "metadata": {},
     "output_type": "display_data"
    }
   ],
   "source": [
    "feature_importance = model_lr.coef_[0]\n",
    "\n",
    "# Create a DataFrame for easier handling\n",
    "coef_df = pd.DataFrame(feature_importance, index=X_train_resampled.columns, columns=['Coefficients'])\n",
    "\n",
    "# Sort the coefficients for better visualization\n",
    "coef_df = coef_df.sort_values(by='Coefficients', ascending=True)\n",
    "\n",
    "# Plotting\n",
    "plt.figure(figsize=(8, 4))\n",
    "plt.barh(coef_df.index, coef_df['Coefficients'], color='steelblue')\n",
    "plt.xlabel('Coefficient Value')\n",
    "plt.title('Feature Importance in Logistic Regression')\n",
    "plt.show()"
   ]
  },
  {
   "cell_type": "markdown",
   "id": "1ae93cda",
   "metadata": {},
   "source": [
    "## 3. Export Model"
   ]
  },
  {
   "cell_type": "code",
   "execution_count": null,
   "id": "4b1bbfbf",
   "metadata": {},
   "outputs": [
    {
     "data": {
      "text/plain": [
       "['artifacts/model_training/best_model.joblib']"
      ]
     },
     "execution_count": 170,
     "metadata": {},
     "output_type": "execute_result"
    }
   ],
   "source": [
    "joblib.dump(model_lr, \"artifacts/model_training/best_model.joblib\")"
   ]
  }
 ],
 "metadata": {
  "kernelspec": {
   "display_name": "churn-x (3.10.0)",
   "language": "python",
   "name": "python3"
  },
  "language_info": {
   "codemirror_mode": {
    "name": "ipython",
    "version": 3
   },
   "file_extension": ".py",
   "mimetype": "text/x-python",
   "name": "python",
   "nbconvert_exporter": "python",
   "pygments_lexer": "ipython3",
   "version": "3.10.0"
  }
 },
 "nbformat": 4,
 "nbformat_minor": 5
}
