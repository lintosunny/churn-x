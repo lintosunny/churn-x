{
 "cells": [
  {
   "cell_type": "markdown",
   "id": "e6cabcc8",
   "metadata": {},
   "source": [
    "## Telco Customer Churn: Exploratory Data Analysis"
   ]
  },
  {
   "cell_type": "markdown",
   "id": "290b2e68",
   "metadata": {},
   "source": [
    "### 1. Understand the data "
   ]
  },
  {
   "cell_type": "markdown",
   "id": "8507774d",
   "metadata": {},
   "source": [
    "**Load Libraries**"
   ]
  },
  {
   "cell_type": "code",
   "execution_count": 17,
   "id": "51534f2b",
   "metadata": {},
   "outputs": [],
   "source": [
    "import pandas as pd\n",
    "import openpyxl"
   ]
  },
  {
   "cell_type": "markdown",
   "id": "64b80f1f",
   "metadata": {},
   "source": [
    "**Load Dataset**"
   ]
  },
  {
   "cell_type": "code",
   "execution_count": 28,
   "id": "34dcba46",
   "metadata": {},
   "outputs": [],
   "source": [
    "df = pd.read_csv(r\"C:\\Users\\linto\\Code\\churn-x\\telcoData\\Telco_customer_churn.csv\")"
   ]
  },
  {
   "cell_type": "markdown",
   "id": "bf348c52",
   "metadata": {},
   "source": [
    "### 2. Data Cleaning"
   ]
  },
  {
   "cell_type": "markdown",
   "id": "5341ad66",
   "metadata": {},
   "source": [
    "### 3. Univariate Analysis"
   ]
  },
  {
   "cell_type": "markdown",
   "id": "bd24848e",
   "metadata": {},
   "source": [
    "### 4. Bivariate/Multivariate Analysis"
   ]
  },
  {
   "cell_type": "markdown",
   "id": "a397b12d",
   "metadata": {},
   "source": [
    "### 5. Feature Engineering Insights"
   ]
  },
  {
   "cell_type": "markdown",
   "id": "36135d6f",
   "metadata": {},
   "source": [
    "### 6. Data Distribution & Assumptions"
   ]
  },
  {
   "cell_type": "markdown",
   "id": "9beea39a",
   "metadata": {},
   "source": [
    "### 7. Key Insights & Hypothesis"
   ]
  }
 ],
 "metadata": {
  "kernelspec": {
   "display_name": "churn-x (3.10.0)",
   "language": "python",
   "name": "python3"
  },
  "language_info": {
   "codemirror_mode": {
    "name": "ipython",
    "version": 3
   },
   "file_extension": ".py",
   "mimetype": "text/x-python",
   "name": "python",
   "nbconvert_exporter": "python",
   "pygments_lexer": "ipython3",
   "version": "3.10.0"
  }
 },
 "nbformat": 4,
 "nbformat_minor": 5
}
